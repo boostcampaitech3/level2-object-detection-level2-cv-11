{
 "cells": [
  {
   "cell_type": "code",
   "execution_count": 1,
   "id": "90135cec-81a0-4b1a-9cb8-99c4d316a547",
   "metadata": {},
   "outputs": [],
   "source": [
    "import json"
   ]
  },
  {
   "cell_type": "code",
   "execution_count": 2,
   "id": "e1ed1802-d2e4-4a65-9837-b5552d9bd725",
   "metadata": {},
   "outputs": [],
   "source": [
    "path = '/opt/ml/detection/dataset'\n",
    "cat = ['General trash', 'Paper', 'Paper pack', 'Metal', 'Glass', 'Plastic', 'Styrofoam', 'Plastic bag', 'Battery', 'Clothing']\n"
   ]
  },
  {
   "cell_type": "code",
   "execution_count": 78,
   "id": "d0a1046e-fc8f-47c9-a617-02dea09918ca",
   "metadata": {},
   "outputs": [],
   "source": [
    "with open(path + '/stratified_kfold/basic_v2/cv_train_3.json', 'r') as j:\n",
    "    train_json = json.load(j)\n",
    "\n",
    "with open(path + '/stratified_kfold/basic_v2/cv_val_3.json', 'r') as j:\n",
    "    valid_json = json.load(j)"
   ]
  },
  {
   "cell_type": "code",
   "execution_count": 80,
   "id": "993686c7-f3e2-42b0-8f78-5bb410ebf999",
   "metadata": {},
   "outputs": [],
   "source": [
    "TARGET = [\"General trash\"]"
   ]
  },
  {
   "cell_type": "code",
   "execution_count": 81,
   "id": "74fad282-1e7f-4c75-beb8-d02dcd53e911",
   "metadata": {},
   "outputs": [],
   "source": [
    "new_json = train_json.copy()"
   ]
  },
  {
   "cell_type": "code",
   "execution_count": 82,
   "id": "1350fe54-bd78-45be-a8a9-e3c5b609a275",
   "metadata": {},
   "outputs": [
    {
     "name": "stdout",
     "output_type": "stream",
     "text": [
      "741\n"
     ]
    }
   ],
   "source": [
    "img_ids= []\n",
    "new_annotations = []\n",
    "for anno in train_json['annotations']:\n",
    "    if cat[anno['category_id']] in TARGET:\n",
    "        img_ids.append(anno['image_id'])\n",
    "        new_annotations.append(anno)\n",
    "img_ids = list(set(img_ids))\n",
    "print(len(new_annotations))"
   ]
  },
  {
   "cell_type": "code",
   "execution_count": 83,
   "id": "5bc4ed48-4efc-4290-bb27-f9120f565a2c",
   "metadata": {},
   "outputs": [
    {
     "name": "stdout",
     "output_type": "stream",
     "text": [
      "412\n"
     ]
    }
   ],
   "source": [
    "new_images = []\n",
    "for img in train_json['images']:\n",
    "    if img['id'] in img_ids:\n",
    "        new_images.append(img)\n",
    "print(len(new_images))"
   ]
  },
  {
   "cell_type": "code",
   "execution_count": 84,
   "id": "3047327d-0a07-4ee0-8419-0a306c0ec6d9",
   "metadata": {
    "tags": []
   },
   "outputs": [],
   "source": [
    "new_json['images'] = new_images\n",
    "new_json['annotations'] = new_annotations\n",
    "new_json['categories'] = [{'id': 0, 'name': 'General trash', 'supercategory': 'General trash'}]"
   ]
  },
  {
   "cell_type": "code",
   "execution_count": 85,
   "id": "dfed7678-b77a-49e8-a5ca-f09cc54fe2cd",
   "metadata": {},
   "outputs": [],
   "source": [
    "with open('generaltrash_valid_cv_3.json', 'w') as file:\n",
    "            json.dump(new_json, file)"
   ]
  },
  {
   "cell_type": "code",
   "execution_count": null,
   "id": "b1500685-6714-4c90-a9e5-30482afd5c54",
   "metadata": {},
   "outputs": [],
   "source": [
    "with open(path + '/stratified_kfold/basic_v2/cv_val_3.json', 'r') as j:\n",
    "    valid_json = json.load(j)"
   ]
  }
 ],
 "metadata": {
  "kernelspec": {
   "display_name": "detection",
   "language": "python",
   "name": "detection"
  },
  "language_info": {
   "codemirror_mode": {
    "name": "ipython",
    "version": 3
   },
   "file_extension": ".py",
   "mimetype": "text/x-python",
   "name": "python",
   "nbconvert_exporter": "python",
   "pygments_lexer": "ipython3",
   "version": "3.7.11"
  }
 },
 "nbformat": 4,
 "nbformat_minor": 5
}
