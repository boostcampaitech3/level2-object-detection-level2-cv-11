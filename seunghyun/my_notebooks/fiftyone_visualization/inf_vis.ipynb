{
 "cells": [
  {
   "cell_type": "code",
   "execution_count": 1,
   "metadata": {},
   "outputs": [],
   "source": [
    "import pandas as pd"
   ]
  },
  {
   "cell_type": "code",
   "execution_count": 2,
   "metadata": {},
   "outputs": [],
   "source": [
    "pred_df = pd.read_csv(\"/opt/ml/detection/SEUNGHYUN_WORKSPACE/my_mmdetection/work_dirs/cascade_rcnn_swin_large/swin_large_cascadercnn_val0629.csv\")"
   ]
  },
  {
   "cell_type": "code",
   "execution_count": 3,
   "metadata": {},
   "outputs": [],
   "source": [
    "dic = {\n",
    "    \"info\": {},\n",
    "\t\"licenses\": [],\n",
    "\t\"images\": [],               # 이미지 list\n",
    "\t\"categories\": [],           # class 종류들의 list\n",
    "\t\"annotations\": []           # annotation list\n",
    "}"
   ]
  },
  {
   "cell_type": "code",
   "execution_count": 4,
   "metadata": {},
   "outputs": [],
   "source": [
    "# dic[\"info\"] = {\n",
    "#     \"year\": 2021,\n",
    "#     \"version\": \"1.0\",\n",
    "#     \"description\": \"Recycle Trash\",\n",
    "#     \"contributor\": \"Upstage\",\n",
    "#     \"url\": None,\n",
    "#     \"date_created\": \"2021-02-02 01:10:00\"\n",
    "#   }\n",
    "\n",
    "# dic[\"licenses\"] = [\n",
    "#     {\n",
    "#       \"id\": 0,\n",
    "#       \"name\": \"CC BY 4.0\",\n",
    "#       \"url\": \"https://creativecommons.org/licenses/by/4.0/deed.ast\"\n",
    "#     }\n",
    "#   ]\n",
    "\n",
    "# dic[\"categories\"] = [\n",
    "#     {\n",
    "#       \"id\": 0,\n",
    "#       \"name\": \"General trash\",\n",
    "#       \"supercategory\": \"General trash\"\n",
    "#     }\n",
    "#   ]"
   ]
  },
  {
   "cell_type": "code",
   "execution_count": 5,
   "metadata": {},
   "outputs": [],
   "source": [
    "dic[\"categories\"] = [\n",
    "    {\n",
    "      \"id\": 0,\n",
    "      \"name\": \"General trash\",\n",
    "      \"supercategory\": \"General trash\"\n",
    "    },\n",
    "    {\n",
    "      \"id\": 1,\n",
    "      \"name\": \"Paper\",\n",
    "      \"supercategory\": \"Paper\"\n",
    "    },\n",
    "    {\n",
    "      \"id\": 2,\n",
    "      \"name\": \"Paper pack\",\n",
    "      \"supercategory\": \"Paper pack\"\n",
    "    },\n",
    "    {\n",
    "      \"id\": 3,\n",
    "      \"name\": \"Metal\",\n",
    "      \"supercategory\": \"Metal\"\n",
    "    },\n",
    "    {\n",
    "      \"id\": 4,\n",
    "      \"name\": \"Glass\",\n",
    "      \"supercategory\": \"Glass\"\n",
    "    },\n",
    "    {\n",
    "      \"id\": 5,\n",
    "      \"name\": \"Plastic\",\n",
    "      \"supercategory\": \"Plastic\"\n",
    "    },\n",
    "    {\n",
    "      \"id\": 6,\n",
    "      \"name\": \"Styrofoam\",\n",
    "      \"supercategory\": \"Styrofoam\"\n",
    "    },\n",
    "    {\n",
    "      \"id\": 7,\n",
    "      \"name\": \"Plastic bag\",\n",
    "      \"supercategory\": \"Plastic bag\"\n",
    "    },\n",
    "    {\n",
    "      \"id\": 8,\n",
    "      \"name\": \"Battery\",\n",
    "      \"supercategory\": \"Battery\"\n",
    "    },\n",
    "    {\n",
    "      \"id\": 9,\n",
    "      \"name\": \"Clothing\",\n",
    "      \"supercategory\": \"Clothing\"\n",
    "    }\n",
    "  ]"
   ]
  },
  {
   "cell_type": "code",
   "execution_count": 6,
   "metadata": {},
   "outputs": [],
   "source": [
    "file_names = pred_df['image_id'].values.tolist()\n",
    "bboxes = pred_df['PredictionString'].values.tolist()\n",
    "\n",
    "for f in file_names:\n",
    "    dic[\"images\"].append({\n",
    "\t\t\"width\": 1024,\n",
    "        \"height\": 1024,\n",
    "        \"file_name\": f,\n",
    "        \"license\": 0,\n",
    "        \"flickr_url\": None,\n",
    "        \"coco_url\": None,\n",
    "        \"id\": int(f[5:9])\n",
    "\t})\n",
    "\n",
    "\n",
    "box_id = 0\n",
    "for img_idx,box in enumerate(bboxes):\n",
    "    lst = []\n",
    "    if type(box) == float:\n",
    "        continue\n",
    "    for i,b in enumerate(box.split(\" \")):\n",
    "        if i%6 == 0 and i != 0:\n",
    "            dic[\"annotations\"].append({\n",
    "                \"image_id\": img_idx,          # 어느 이미지에 있는가?\n",
    "                \"category_id\": int(lst[0]),   # 이미지의 종류\n",
    "                \"score\": float(lst[1]),\n",
    "                \"area\": (float(lst[4]) - float(lst[2])) * (float(lst[5]) - float(lst[3])),\n",
    "                \"bbox\": [                     # 박스의 좌표\n",
    "                    float(lst[2]),\n",
    "                    float(lst[3]),\n",
    "                    float(lst[4]) - float(lst[2]),\n",
    "                    float(lst[5]) - float(lst[3])\n",
    "                ],\n",
    "                \"iscrowd\": 0,            # ??\n",
    "                \"id\": box_id             # 박스의 ID: 1,2,3, ...\n",
    "            })\n",
    "            lst = []\n",
    "            box_id += 1\n",
    "        lst.append(b)\n",
    "\n"
   ]
  },
  {
   "cell_type": "code",
   "execution_count": 7,
   "metadata": {},
   "outputs": [],
   "source": [
    "import json\n",
    "\n",
    "with open('swinlarge_cascade.json','w') as f:\n",
    "    json.dump(dic,f)\n",
    "\n"
   ]
  },
  {
   "cell_type": "code",
   "execution_count": null,
   "metadata": {},
   "outputs": [],
   "source": []
  }
 ],
 "metadata": {
  "kernelspec": {
   "display_name": "detection",
   "language": "python",
   "name": "detection"
  },
  "language_info": {
   "codemirror_mode": {
    "name": "ipython",
    "version": 3
   },
   "file_extension": ".py",
   "mimetype": "text/x-python",
   "name": "python",
   "nbconvert_exporter": "python",
   "pygments_lexer": "ipython3",
   "version": "3.7.11"
  },
  "orig_nbformat": 4
 },
 "nbformat": 4,
 "nbformat_minor": 2
}
