{
 "cells": [
  {
   "cell_type": "markdown",
   "metadata": {},
   "source": [
    "### YOLOv5 \n",
    "참고 많이한 사이트 : https://www.dacon.io/en/competitions/official/235855/codeshare/3829?page=1&dtype=recent\n",
    "\n",
    "ipynb 파일이긴 하지만 하나씩 터미널에서 실행하는 것을 추천한다. (로딩 실패가 많았음)"
   ]
  },
  {
   "cell_type": "markdown",
   "metadata": {},
   "source": [
    "### 1.Train YOLOv5 \n",
    "labels will be saved in weights/{experiment name}/\n",
    "\n",
    "`--project` pth파일을 저장할 위치 \\\n",
    "`--name` experiment name \\\n",
    "`--img` image size \\\n",
    "`--data` yaml file for classes and data file path \\\n",
    "`--weights` initial weight (ex. yolov5s yolov5m yolov5l ...)\\\n",
    "`--save-period` save .pt file for every x epoch\\\n",
    "`--workers` worker for training"
   ]
  },
  {
   "cell_type": "code",
   "execution_count": null,
   "metadata": {},
   "outputs": [],
   "source": [
    "!python train.py --project weights/ --name=exp2 \\\n",
    "--img 512 --batch 16 --epochs 60 --data data/btcamp_0f.yaml \\\n",
    "--weights yolov5l.pt --save-period 7 --workers 1\n"
   ]
  },
  {
   "cell_type": "markdown",
   "metadata": {},
   "source": [
    "### 2.Detect with test images \n",
    "make labels/*.txt\n",
    "\n",
    "`--weights` train 시켰던 pth 파일 위치 \\\n",
    "`--project` labels 폴더를 만들 위치 \\\n",
    "`--name` experiment name \\\n",
    "`--img` image size \\\n",
    "`--source` test_img_directory \\\n",
    "`--save-txt` save results in .txt \\\n",
    "`--save-conf` save confidence score \\\n",
    "`--conf-thres` confidence threshold \\\n",
    "`--iou-thres` NMS IOU threshold \\\n",
    "`--nosave` do not save image \\\n",
    "`--data` yaml file \n",
    "\n"
   ]
  },
  {
   "cell_type": "code",
   "execution_count": null,
   "metadata": {},
   "outputs": [],
   "source": [
    "!python detect.py --weights weights/exp2/weights/best.pt \\\n",
    "--project results/ --name exp2_epoch60_imgsz512 --img 512 \\\n",
    "--source ../dataset/test/ --save-txt --save-conf \\\n",
    "--conf-thres 0.005 --iou-thres 0.5 --nosave --data data/btcamp_0f.yaml"
   ]
  },
  {
   "cell_type": "markdown",
   "metadata": {},
   "source": [
    "### 3.Yolo to COCO Format\n",
    "change labels/*.txt to submission.csv \n",
    "\n",
    "`--dir_prefix` directory where labels is \\\n",
    "`--exp_name` experiment name \\\n",
    "`--test_img_path` test_img_directory\n"
   ]
  },
  {
   "cell_type": "code",
   "execution_count": null,
   "metadata": {},
   "outputs": [],
   "source": [
    "!python 3_yolo_to_coco.py --dir_prefix results/ \\\n",
    "--exp_name exp2_epoch60_imgsz5122 --test_img_path /opt/ml/detection/dataset/test/\n"
   ]
  },
  {
   "cell_type": "markdown",
   "metadata": {},
   "source": [
    "### 4. Check label with fiftyone \n",
    "change submission.csv to csv_to_json.json "
   ]
  },
  {
   "cell_type": "code",
   "execution_count": null,
   "metadata": {},
   "outputs": [],
   "source": [
    "!cp results/exp2_epoch60_imgsz5122/submission.csv ./\n",
    "!python 4_makejson.py \n",
    "print('finished. please check ./csv_to_json.json') "
   ]
  },
  {
   "cell_type": "code",
   "execution_count": null,
   "metadata": {},
   "outputs": [],
   "source": [
    "!python run.py --data_dir test --port 30006 --anno_dir ./csv_to_json.json"
   ]
  }
 ],
 "metadata": {
  "kernelspec": {
   "display_name": "detection",
   "language": "python",
   "name": "detection"
  },
  "language_info": {
   "codemirror_mode": {
    "name": "ipython",
    "version": 3
   },
   "file_extension": ".py",
   "mimetype": "text/x-python",
   "name": "python",
   "nbconvert_exporter": "python",
   "pygments_lexer": "ipython3",
   "version": "3.7.11"
  }
 },
 "nbformat": 4,
 "nbformat_minor": 4
}
